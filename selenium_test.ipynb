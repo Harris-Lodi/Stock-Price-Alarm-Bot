{
 "cells": [
  {
   "cell_type": "code",
   "execution_count": 29,
   "metadata": {},
   "outputs": [],
   "source": [
    "from selenium import webdriver\n",
    "from selenium.webdriver.common.keys import Keys\n",
    "from selenium.webdriver.common.by import By\n",
    "from selenium.webdriver.support.ui import WebDriverWait\n",
    "from selenium.webdriver.support import expected_conditions as EC \n"
   ]
  },
  {
   "cell_type": "code",
   "execution_count": null,
   "metadata": {},
   "outputs": [],
   "source": [
    "# open the url in the web driver\n",
    "url = 'https://stockanalysis.com/stocks/amd/'\n",
    "driver = webdriver.Firefox()\n",
    "driver.get(url)\n",
    "\n",
    "# click on a button to open the conversation tab\n",
    "# button = driver.find_element(By.CSS_SELECTOR, 'li.svelte-1ubpy4e:nth-child(4) > button:nth-child(1)')\n",
    "# button.click()\n",
    "\n",
    "# find the comments\n",
    "try:\n",
    "    button = WebDriverWait(driver, 10).until(\n",
    "        EC.presence_of_element_located((By.CSS_SELECTOR, 'li.svelte-1ubpy4e:nth-child(4) > button:nth-child(1)'))\n",
    "    )\n",
    "    button.click()\n",
    "\n",
    "    # comments = driver.find_elements(By.TAG_NAME, \"li\")\n",
    "    # print(comments)\n",
    "\n",
    "    comments = WebDriverWait(driver, 20).until(\n",
    "        EC.presence_of_element_located((By.CLASS_NAME, 'messages'))\n",
    "    )\n",
    "    # print(comments)\n",
    "\n",
    "    for comment in comments:\n",
    "        print(comment.text)\n",
    "\n",
    "finally:\n",
    "    driver.quit()\n",
    "\n",
    "# no output, will have to save html of web page after the button is clicked, then use BS4 to scrape the messages list"
   ]
  }
 ],
 "metadata": {
  "kernelspec": {
   "display_name": "Python 3.9.2 64-bit",
   "language": "python",
   "name": "python3"
  },
  "language_info": {
   "codemirror_mode": {
    "name": "ipython",
    "version": 3
   },
   "file_extension": ".py",
   "mimetype": "text/x-python",
   "name": "python",
   "nbconvert_exporter": "python",
   "pygments_lexer": "ipython3",
   "version": "3.9.2"
  },
  "orig_nbformat": 4,
  "vscode": {
   "interpreter": {
    "hash": "916dbcbb3f70747c44a77c7bcd40155683ae19c65e1c03b4aa3499c5328201f1"
   }
  }
 },
 "nbformat": 4,
 "nbformat_minor": 2
}
